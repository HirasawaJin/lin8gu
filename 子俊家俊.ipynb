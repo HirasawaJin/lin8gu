{
  "nbformat": 4,
  "nbformat_minor": 0,
  "metadata": {
    "colab": {
      "name": "子俊家俊.ipynb",
      "private_outputs": true,
      "provenance": [],
      "authorship_tag": "ABX9TyNWltaZt2+MKdIl2gvK6jkn",
      "include_colab_link": true
    },
    "kernelspec": {
      "name": "python3",
      "display_name": "Python 3"
    },
    "language_info": {
      "name": "python"
    }
  },
  "cells": [
    {
      "cell_type": "markdown",
      "metadata": {
        "id": "view-in-github",
        "colab_type": "text"
      },
      "source": [
        "<a href=\"https://colab.research.google.com/github/eul94458/lin8gu/blob/master/%E5%AD%90%E4%BF%8A%E5%AE%B6%E4%BF%8A.ipynb\" target=\"_parent\"><img src=\"https://colab.research.google.com/assets/colab-badge.svg\" alt=\"Open In Colab\"/></a>"
      ]
    },
    {
      "cell_type": "code",
      "metadata": {
        "id": "SFWpZRdal9Gu"
      },
      "source": [
        "import itertools\n",
        "import random"
      ],
      "execution_count": null,
      "outputs": []
    },
    {
      "cell_type": "code",
      "metadata": {
        "id": "jEdsaaWJmpPI"
      },
      "source": [
        "ka = '''家, 珈, 笳, 耞, 跏, 椵, 犌, 鴐, 茄, 猳, 麚, 瘕, 釓, 毠, \n",
        "泇, 癿, 尕, 加, 嘉, 傢, 枷, 迦, 嘎, 噶, 伽, 袈, 鎵, 痂, 葭, 豭, \n",
        "貑'''\n",
        "ka = ka.split(', ')"
      ],
      "execution_count": null,
      "outputs": []
    },
    {
      "cell_type": "code",
      "metadata": {
        "id": "Sg4BC8H3mubN"
      },
      "source": [
        "zi = '''釨, 軹, 笫, 茞, 茈, 秭, 疻, 胏, 耔, 恉, 呰, 泲, 阯, 黹, \n",
        "訿, 畤, 藢, 矷, 汦, 寺, 栺, 祗, 抵, 坻, 秖, 芓, 沚, 址, 紫, \n",
        "姊, 祇, 徵, 衹, 仔, 止, 紙, 指, 只, 子, 旨, 趾, 酯, 扺, 坁, \n",
        "厎, 訾, 芷, 枳, 砥, 祉, 咫, 梓, 滓, 籽, 鮨, 杍, 吇, 淽'''\n",
        "zi = zi.split(', ')"
      ],
      "execution_count": null,
      "outputs": []
    },
    {
      "cell_type": "code",
      "metadata": {
        "id": "oBXI0f1ooQW8"
      },
      "source": [
        "ho = '''號, 哠, 暠, 灝, 鰝, 薃, 皞, 澔, 滈, 淏, 昦, 顥, 鄗, \n",
        "昊, 皜, 鎬, 皓, 浩, 悎'''\n",
        "ho = ho.split(', ')"
      ],
      "execution_count": null,
      "outputs": []
    },
    {
      "cell_type": "code",
      "metadata": {
        "id": "o2RojqhbtsgQ"
      },
      "source": [
        "middle_name = {'ka':ka, 'zi':zi, 'ho':ho}"
      ],
      "execution_count": null,
      "outputs": []
    },
    {
      "cell_type": "code",
      "metadata": {
        "id": "h1Yb3cAjnGkp"
      },
      "source": [
        "chun = '''盹, 寯, 璡, 臇, 鵔, 捘, 溍, 嚍, 枃, 榗, 晙, 訰, 稕, \n",
        "臸, 燇, 餕, 鋑, 葰, 進, 晉, 俊, 峻, 駿, 浚, 竣, 鐫, 雋, 濬, \n",
        "縉, 焌, 畯, 搢, 朘'''\n",
        "chun = chun.split(', ')"
      ],
      "execution_count": null,
      "outputs": []
    },
    {
      "cell_type": "code",
      "metadata": {
        "id": "nnAR9d_WnXcI"
      },
      "source": [
        "hay = '''礂, 魌, 醯, 諆, 豨, 榿, 僛, 媐, 睎, 娸, 狶, 巇, 爔, \n",
        "娭, 鶀, 莃, 燨, 橀, 桸, 琋, 凞, 鵗, 郗, 咳, 浠, 悕, 屎, 嬉, \n",
        "嗨, 熙, 嘿, 嘻, 欺, 犧, 稀, 希, 熹, 禧, 烯, 倛, 俙, 譆, 僖, \n",
        "晞, 欷, 曦, 唏, 釐, 羲, 訢'''\n",
        "hay = hay.split(', ')"
      ],
      "execution_count": null,
      "outputs": []
    },
    {
      "cell_type": "code",
      "metadata": {
        "id": "E81_JqrengGp"
      },
      "source": [
        "yan = '''因, 絪, 裀, 歅, 禋, 銦, 諲, 駰, 闉, 黫, 摁, 凐, 妡, \n",
        "欭, 蒑, 焮, 堙, 洇, 欣, 恩, 姻, 殷, 甄, 茵, 訢, 氤, 湮, 昕, \n",
        "慇, 忻, 炘, 垔, 盺'''\n",
        "yan = yan.split(', ')"
      ],
      "execution_count": null,
      "outputs": []
    },
    {
      "cell_type": "code",
      "metadata": {
        "id": "yPKiTZ9VoC1Y"
      },
      "source": [
        "kei = '''秖, 示, 畿, 伎, 碁, 騹, 鬐, 蘄, 鯕, 騏, 鮨, 鬿, 蜞, \n",
        "綦, 隑, 崎, 丌, 鵸, 鶀, 蚔, 蚚, 鄿, 軝, 藄, 忯, 玂, 魕, 掑, \n",
        "岓, 濝, 衹, 碕, 萁, 祺, 琪, 俟, 祈, 歧, 鰭, 棋, 祇, 騎, 旗, \n",
        "枝, 奇, 期, 其, 淇, 琦, 跂, 埼, 蚑, 旂, 疧, 肵, 亓, 錡, 圻, \n",
        "麒, 頎, 祁, 岐, 耆, 蟣'''\n",
        "kei = kei.split(', ')"
      ],
      "execution_count": null,
      "outputs": []
    },
    {
      "cell_type": "code",
      "metadata": {
        "id": "w5Cnn9TSoOHP"
      },
      "source": [
        "shan = '''山, 狦, 柵, 芟, 羶, 膻, 挻, 潸, 閂, 舢, 姍, 栓, 跚, \n",
        "刪, 珊, 拴, 埏'''\n",
        "shan = shan.split(', ')"
      ],
      "execution_count": null,
      "outputs": []
    },
    {
      "cell_type": "code",
      "metadata": {
        "id": "zYuvfNoCopVo"
      },
      "source": [
        "man = '''民, 鼤, 鼆, 汶, 抿, 璺, 甿, 魰, 崏, 琝, 閺, 芠, 蕄, \n",
        "鈱, 錉, 鳼, 敯, 闅, 閿, 文, 聞, 紋, 蚊, 雯, 氓, 閩, 緡, 岷, \n",
        "玟, 忞, 旼, 旻, 苠, 罠, 痻, 駇'''\n",
        "man = man.split(', ')"
      ],
      "execution_count": null,
      "outputs": []
    },
    {
      "cell_type": "code",
      "metadata": {
        "id": "ciE8hnlAozs0"
      },
      "source": [
        "wing = '''泳, 穎, 詠, 潁, 禜, 醟, 蒏'''\n",
        "wing = wing.split(', ')"
      ],
      "execution_count": null,
      "outputs": []
    },
    {
      "cell_type": "code",
      "metadata": {
        "id": "SdsuwecWo_3L"
      },
      "source": [
        "ting = '''庭, 綎, 葶, 鼮, 嵉, 娗, 榳, 聤, 蝏, 筳, 楟, 停, 廷, \n",
        "亭, 蜓, 婷, 霆, 莛, 渟, 閮'''\n",
        "ting = ting.split(', ')"
      ],
      "execution_count": null,
      "outputs": []
    },
    {
      "cell_type": "code",
      "metadata": {
        "id": "t7iJrTOwpK7n"
      },
      "source": [
        "sze = '''鉰, 釃, 襹, 鼶, 鰤, 颸, 蟴, 褷, 螄, 緦, 禠, 澌, 篩, \n",
        "鉈, 簁, 俬, 箷, 鶳, 蜤, 磃, 蕬, 榹, 楒, 湤, 泀, 鸍, 僿, 鳲, \n",
        "獅, 撕, 廝, 屍, 私, 詩, 絲, 斯, 施, 司, 師, 嘶, 鍶, 尸, 罳, \n",
        "禗, 凘, 葹, 溮, 絁, 偲, 虒, 邿, 蓍, 鷥, 思'''\n",
        "sze = sze.split(', ')"
      ],
      "execution_count": null,
      "outputs": []
    },
    {
      "cell_type": "code",
      "metadata": {
        "id": "Vud2qzZipkyP"
      },
      "source": [
        "hin = '''牽, 攓, 謇, 祆, 掔, 鶱, 蹇, 仚, 佡, 挳, 雃, 蓒, 攐, \n",
        "褰, 掀, 軒, 杴, 縴, 愆, 搴, 騫, 幵, 岍, 汧, 嘕, 轋'''\n",
        "hin = hin.split(', ')"
      ],
      "execution_count": null,
      "outputs": []
    },
    {
      "cell_type": "code",
      "metadata": {
        "id": "crwkmGHFptt4"
      },
      "source": [
        "lon = '''朗, 崀, 悢, 烺, 塱, 閬, 蒗, 誏'''\n",
        "lon = lon.split(', ')"
      ],
      "execution_count": null,
      "outputs": []
    },
    {
      "cell_type": "code",
      "metadata": {
        "id": "6bAQD4HZp0cb"
      },
      "source": [
        "ching = '''成, 脭, 徵, 珵, 氰, 殑, 餳, 澂, 酲, 裎, 埕, 澄, 懲, 瞪, 晴, 呈, 程, 情, 蟳'''\n",
        "ching = ching.split(', ')"
      ],
      "execution_count": null,
      "outputs": []
    },
    {
      "cell_type": "code",
      "metadata": {
        "id": "9LbiGVkzp9gY"
      },
      "source": [
        "kit = '''鮚, 嵥, 滐, 姞, 佶, 榤, 偈, 杰, 桀, 傑, 狤'''\n",
        "kit = kit.split(', ')"
      ],
      "execution_count": null,
      "outputs": []
    },
    {
      "cell_type": "code",
      "metadata": {
        "id": "NSVwqRletKY9"
      },
      "source": [
        "last_name = {'chung':chun, 'hay':hay, 'kei':kei, \\\n",
        "                'shan':shan, 'man':man, 'wing':wing, \\\n",
        "                'ting':ting, 'sze':sze, 'hin':hin, \\\n",
        "                'long':lon, 'ching':ching}"
      ],
      "execution_count": null,
      "outputs": []
    },
    {
      "cell_type": "code",
      "metadata": {
        "id": "814lAMDhq8Fi"
      },
      "source": [
        "family_name = '''陳、林、黃、張、李、王、吳、劉、蔡、楊、許、鄭、謝、洪、郭、邱、曾、廖、賴、\n",
        "        徐、周、葉、蘇、莊、呂、江、何、蕭、羅、高、潘、簡、朱、鍾、彭、游、詹、胡、\n",
        "        施、沈、余、盧、梁、趙、顏、柯、翁、魏、孫、戴、范、方、宋、鄧、杜、傅、侯、\n",
        "        曹、薛、丁、卓、馬、阮、董、唐、温、藍、蔣、石、古、紀、姚、連、馮、歐、程、\n",
        "        湯、黄、田、康、姜、汪、白、鄒、尤、巫、鐘、黎、涂、龔、嚴、韓、袁、金、童、\n",
        "        陸、夏、柳、凃、邵'''\n",
        "family_name = {'fam':family_name.split('、')}"
      ],
      "execution_count": null,
      "outputs": []
    },
    {
      "cell_type": "code",
      "metadata": {
        "id": "_2YP6LMmwfSp"
      },
      "source": [
        "random.randint(1,10)"
      ],
      "execution_count": null,
      "outputs": []
    },
    {
      "cell_type": "code",
      "metadata": {
        "id": "6MBKdS32wLcy"
      },
      "source": [
        "def char_lottery(Names):\n",
        "    Leng = len(Names)\n",
        "    start, end = 0, Leng-1\n",
        "    keys = list(Names.keys())\n",
        "    index1 = random.randint(start,end)\n",
        "    award1 = Names[keys[index1]]\n",
        "\n",
        "    Leng = len(award1)\n",
        "    start, end = 0, Leng-1\n",
        "    index2 = random.randint(start,end)\n",
        "    award2 = award1[index2].strip()\n",
        "    return award2\n",
        "\n",
        "\n",
        "def full_name_lottery():\n",
        "    source = [family_name, middle_name, last_name]\n",
        "    full_name = map(char_lottery, source)\n",
        "    full_name = ''.join(full_name)\n",
        "    return full_name\n",
        "\n",
        "count = 0\n",
        "for n in range(80):\n",
        "    new_name = full_name_lottery()\n",
        "    print(new_name, end='   ')\n",
        "    count += 1\n",
        "    if not count%8:\n",
        "        print(\"\")\n",
        "\n",
        "\n"
      ],
      "execution_count": null,
      "outputs": []
    },
    {
      "cell_type": "code",
      "metadata": {
        "id": "Y5AYbPgKzqc3"
      },
      "source": [
        ""
      ],
      "execution_count": null,
      "outputs": []
    }
  ]
}